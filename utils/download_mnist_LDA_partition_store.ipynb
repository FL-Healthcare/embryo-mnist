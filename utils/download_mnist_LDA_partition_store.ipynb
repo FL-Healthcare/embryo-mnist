{
 "cells": [
  {
   "cell_type": "code",
   "execution_count": 6,
   "id": "fc8ec29e-d353-43f5-9e3d-fda9797fa651",
   "metadata": {},
   "outputs": [
    {
     "name": "stdout",
     "output_type": "stream",
     "text": [
      "../data/MNIST/partitions\n",
      "total : 70000\n",
      "test : 10000\n",
      "val : 10000\n",
      "train : 50000\n",
      "(2174, 28, 28)\n",
      "(435, 28, 28)\n",
      "(435, 28, 28)\n",
      "\u001b[0m"
     ]
    }
   ],
   "source": [
    "!python3 download_mnist_LDA_partition_store.py"
   ]
  }
 ],
 "metadata": {
  "kernelspec": {
   "display_name": "Python 3 (ipykernel)",
   "language": "python",
   "name": "python3"
  },
  "language_info": {
   "codemirror_mode": {
    "name": "ipython",
    "version": 3
   },
   "file_extension": ".py",
   "mimetype": "text/x-python",
   "name": "python",
   "nbconvert_exporter": "python",
   "pygments_lexer": "ipython3",
   "version": "3.8.10"
  }
 },
 "nbformat": 4,
 "nbformat_minor": 5
}
