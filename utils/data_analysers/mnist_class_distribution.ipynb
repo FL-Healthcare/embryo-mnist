{
 "cells": [
  {
   "cell_type": "code",
   "execution_count": 45,
   "id": "da809f05-7191-497a-abba-70299d3ab9c2",
   "metadata": {},
   "outputs": [
    {
     "data": {
      "text/html": [
       "wandb version 0.12.15 is available!  To upgrade, please run:\n",
       " $ pip install wandb --upgrade"
      ],
      "text/plain": [
       "<IPython.core.display.HTML object>"
      ]
     },
     "metadata": {},
     "output_type": "display_data"
    },
    {
     "data": {
      "text/html": [
       "Tracking run with wandb version 0.12.13"
      ],
      "text/plain": [
       "<IPython.core.display.HTML object>"
      ]
     },
     "metadata": {},
     "output_type": "display_data"
    },
    {
     "data": {
      "text/html": [
       "Run data is saved locally in <code>/mnt/data/FederatedLearning/utils/dataAnalysers/wandb/run-20220425_113327-2pbdc24w</code>"
      ],
      "text/plain": [
       "<IPython.core.display.HTML object>"
      ]
     },
     "metadata": {},
     "output_type": "display_data"
    },
    {
     "data": {
      "text/html": [
       "Syncing run <strong><a href=\"https://wandb.ai/anton-peter/Dataset-Analysis/runs/2pbdc24w\" target=\"_blank\">mild-elevator-1</a></strong> to <a href=\"https://wandb.ai/anton-peter/Dataset-Analysis\" target=\"_blank\">Weights & Biases</a> (<a href=\"https://wandb.me/run\" target=\"_blank\">docs</a>)<br/>"
      ],
      "text/plain": [
       "<IPython.core.display.HTML object>"
      ]
     },
     "metadata": {},
     "output_type": "display_data"
    },
    {
     "name": "stdout",
     "output_type": "stream",
     "text": [
      "\n"
     ]
    },
    {
     "data": {
      "text/html": [
       "Waiting for W&B process to finish... <strong style=\"color:green\">(success).</strong>"
      ],
      "text/plain": [
       "<IPython.core.display.HTML object>"
      ]
     },
     "metadata": {},
     "output_type": "display_data"
    },
    {
     "data": {
      "text/html": [
       "Synced <strong style=\"color:#cdcd00\">mild-elevator-1</strong>: <a href=\"https://wandb.ai/anton-peter/Dataset-Analysis/runs/2pbdc24w\" target=\"_blank\">https://wandb.ai/anton-peter/Dataset-Analysis/runs/2pbdc24w</a><br/>Synced 4 W&B file(s), 2 media file(s), 2 artifact file(s) and 0 other file(s)"
      ],
      "text/plain": [
       "<IPython.core.display.HTML object>"
      ]
     },
     "metadata": {},
     "output_type": "display_data"
    },
    {
     "data": {
      "text/html": [
       "Find logs at: <code>./wandb/run-20220425_113327-2pbdc24w/logs</code>"
      ],
      "text/plain": [
       "<IPython.core.display.HTML object>"
      ]
     },
     "metadata": {},
     "output_type": "display_data"
    }
   ],
   "source": [
    "import wandb\n",
    "from keras.datasets import mnist\n",
    "\n",
    "wandb.init(project=\"Dataset-Analysis\", entity=\"anton-peter\")\n",
    "wandb.run.name = f\"class_dist_mnist\"\n",
    "\n",
    "#load dataset \n",
    "(train_X, train_y), (test_X, test_y) = mnist.load_data()\n",
    "classes_mnist = joined_list = [*train_y, *test_y] \n",
    "\n",
    "# calculate number of samples per class\n",
    "classes=[\"0\", \"1\", \"2\", \"3\", \"4\", \"5\", \"6\", \"7\", \"8\", \"9\"]\n",
    "number_sample_per_class = []\n",
    "for i in range(len(classes)):\n",
    "    number_sample_per_class.append(classes_mnist.count(i))\n",
    "    \n",
    "\n",
    "# calculate percentage of global dataset per class\n",
    "percentage_per_class = []\n",
    "for value in number_sample_per_class:\n",
    "    percentage_per_class.append((value/len(classes_mnist))*100)\n",
    "    \n",
    "\n",
    "# plot bar - percentage per class    \n",
    "data = [[class_name, percentage_per_class[i]] for i, class_name in enumerate(classes)]\n",
    "table = wandb.Table(data=data, columns=[\"Classes\", \"Percentage (%)\"])\n",
    "wandb.log({\"Class distribution MNIST percentage\" : wandb.plot.bar(table, \"Classes\",\n",
    "           \"Percentage (%)\", title=\"MNIST class distribution percentage\")})\n",
    "\n",
    "# plot bar - count per class\n",
    "data = [[class_name, number_sample_per_class[i]] for i, class_name in enumerate(classes)]\n",
    "table = wandb.Table(data=data, columns=[\"Classes\", \"Count\"])\n",
    "wandb.log({\"Class distribution MNIST\" : wandb.plot.bar(table, \"Classes\",\n",
    "           \"Count\", title=\"MNIST class distribution\")})\n",
    "\n",
    "\n",
    "wandb.finish()"
   ]
  }
 ],
 "metadata": {
  "kernelspec": {
   "display_name": "Python 3 (ipykernel)",
   "language": "python",
   "name": "python3"
  },
  "language_info": {
   "codemirror_mode": {
    "name": "ipython",
    "version": 3
   },
   "file_extension": ".py",
   "mimetype": "text/x-python",
   "name": "python",
   "nbconvert_exporter": "python",
   "pygments_lexer": "ipython3",
   "version": "3.8.10"
  }
 },
 "nbformat": 4,
 "nbformat_minor": 5
}
