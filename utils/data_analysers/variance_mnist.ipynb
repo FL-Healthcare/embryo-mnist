{
 "cells": [
  {
   "cell_type": "markdown",
   "id": "5f300ed9-4ce2-4a9c-90d1-c0c9d730c33d",
   "metadata": {},
   "source": [
    "### Pre req\n",
    "* Run download_and_store.py with some alpha and number of partitions"
   ]
  },
  {
   "cell_type": "code",
   "execution_count": 34,
   "id": "19bf2981-c26c-4782-8867-483dc111eff1",
   "metadata": {},
   "outputs": [
    {
     "name": "stdout",
     "output_type": "stream",
     "text": [
      "17.688035729016566\n"
     ]
    }
   ],
   "source": [
    "import numpy as np\n",
    "\n",
    "from numpy import load\n",
    "import numpy as np\n",
    "\n",
    "num_of_clients = 23\n",
    "avg_std = 0\n",
    "for client_id in range(1,num_of_clients+1):\n",
    "\n",
    "    path_to_data = f\"/mnt/data/FederatedLearning/data/MNIST/partitions/Client-{client_id}\"\n",
    "\n",
    "    train_labels_client = load(f\"{path_to_data}/train_labels.npy\")\n",
    "    test_labels_client  = load(f\"{path_to_data}/test_labels.npy\")\n",
    "\n",
    "    total_labels_client   = [*train_labels_client, *test_labels_client] \n",
    "\n",
    "      # calculate number of samples per class\n",
    "    classes=[\"0\", \"1\", \"2\", \"3\", \"4\", \"5\", \"6\", \"7\", \"8\", \"9\"]\n",
    "    number_sample_per_class = []\n",
    "    for i in range(len(classes)):\n",
    "        number_sample_per_class.append(total_labels_client.count(i))\n",
    "\n",
    "\n",
    "    # calculate percentage of global dataset per class\n",
    "    percentage_per_class = []\n",
    "    for value in number_sample_per_class:\n",
    "        percentage_per_class.append((value/len(total_labels_client))*100)\n",
    "\n",
    "    avg_std += np.std(percentage_per_class)\n",
    "\n",
    "print(avg_std/num_of_clients)\n"
   ]
  }
 ],
 "metadata": {
  "kernelspec": {
   "display_name": "Python 3 (ipykernel)",
   "language": "python",
   "name": "python3"
  },
  "language_info": {
   "codemirror_mode": {
    "name": "ipython",
    "version": 3
   },
   "file_extension": ".py",
   "mimetype": "text/x-python",
   "name": "python",
   "nbconvert_exporter": "python",
   "pygments_lexer": "ipython3",
   "version": "3.8.10"
  }
 },
 "nbformat": 4,
 "nbformat_minor": 5
}
