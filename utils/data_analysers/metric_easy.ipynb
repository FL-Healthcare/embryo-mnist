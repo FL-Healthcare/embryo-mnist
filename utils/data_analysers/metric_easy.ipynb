{
 "cells": [
  {
   "cell_type": "code",
   "execution_count": 46,
   "id": "3e29e893-56d4-4f92-94ed-4adfacd16159",
   "metadata": {},
   "outputs": [
    {
     "name": "stdout",
     "output_type": "stream",
     "text": [
      "0.999 +/- 0.00\n"
     ]
    }
   ],
   "source": [
    "mean = 0.9990\n",
    "max = 1\n",
    "min = 0.9971\n",
    "\n",
    "plus = max-mean\n",
    "minus = mean-min\n",
    "\n",
    "average_plus_minus = plus = \"{:.2f}\".format((plus+minus)/2)\n",
    "\n",
    "\n",
    "print(f\"{mean} +/- {average_plus_minus}\")"
   ]
  },
  {
   "cell_type": "code",
   "execution_count": null,
   "id": "559c7618-d00e-40f0-acd0-b3f975050a6a",
   "metadata": {},
   "outputs": [],
   "source": []
  }
 ],
 "metadata": {
  "kernelspec": {
   "display_name": "Python 3 (ipykernel)",
   "language": "python",
   "name": "python3"
  },
  "language_info": {
   "codemirror_mode": {
    "name": "ipython",
    "version": 3
   },
   "file_extension": ".py",
   "mimetype": "text/x-python",
   "name": "python",
   "nbconvert_exporter": "python",
   "pygments_lexer": "ipython3",
   "version": "3.8.10"
  }
 },
 "nbformat": 4,
 "nbformat_minor": 5
}
