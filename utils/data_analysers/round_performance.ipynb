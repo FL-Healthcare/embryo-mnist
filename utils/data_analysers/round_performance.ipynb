{
 "cells": [
  {
   "cell_type": "code",
   "execution_count": 24,
   "id": "8c74cf45-13a7-479f-a6db-c00744b2f567",
   "metadata": {},
   "outputs": [
    {
     "name": "stderr",
     "output_type": "stream",
     "text": [
      "2022-05-28 21:37:52.603527: I tensorflow/core/platform/cpu_feature_guard.cc:193] This TensorFlow binary is optimized with oneAPI Deep Neural Network Library (oneDNN) to use the following CPU instructions in performance-critical operations:  AVX2 AVX512F AVX512_VNNI FMA\n",
      "To enable them in other operations, rebuild TensorFlow with the appropriate compiler flags.\n",
      "2022-05-28 21:37:52.727527: I tensorflow/core/util/util.cc:169] oneDNN custom operations are on. You may see slightly different numerical results due to floating-point round-off errors from different computation orders. To turn them off, set the environment variable `TF_ENABLE_ONEDNN_OPTS=0`.\n",
      "WARNING:tensorflow:Please fix your imports. Module tensorflow.python.training.tracking.base has been moved to tensorflow.python.trackable.base. The old module will be deleted in version 2.11.\n",
      "WARNING:tensorflow:Please fix your imports. Module tensorflow.python.training.checkpoint_management has been moved to tensorflow.python.checkpoint.checkpoint_management. The old module will be deleted in version 2.9.\n",
      "WARNING:tensorflow:Please fix your imports. Module tensorflow.python.training.tracking.resource has been moved to tensorflow.python.trackable.resource. The old module will be deleted in version 2.11.\n",
      "WARNING:tensorflow:Please fix your imports. Module tensorflow.python.training.tracking.util has been moved to tensorflow.python.checkpoint.checkpoint. The old module will be deleted in version 2.11.\n",
      "WARNING:tensorflow:Please fix your imports. Module tensorflow.python.training.tracking.base_delegate has been moved to tensorflow.python.trackable.base_delegate. The old module will be deleted in version 2.11.\n",
      "WARNING:tensorflow:Please fix your imports. Module tensorflow.python.training.tracking.graph_view has been moved to tensorflow.python.checkpoint.graph_view. The old module will be deleted in version 2.11.\n",
      "WARNING:tensorflow:Please fix your imports. Module tensorflow.python.training.tracking.python_state has been moved to tensorflow.python.trackable.python_state. The old module will be deleted in version 2.11.\n",
      "WARNING:tensorflow:Please fix your imports. Module tensorflow.python.training.saving.functional_saver has been moved to tensorflow.python.checkpoint.functional_saver. The old module will be deleted in version 2.11.\n",
      "WARNING:tensorflow:Please fix your imports. Module tensorflow.python.training.saving.checkpoint_options has been moved to tensorflow.python.checkpoint.checkpoint_options. The old module will be deleted in version 2.11.\n"
     ]
    },
    {
     "data": {
      "text/html": [
       "wandb version 0.12.17 is available!  To upgrade, please run:\n",
       " $ pip install wandb --upgrade"
      ],
      "text/plain": [
       "<IPython.core.display.HTML object>"
      ]
     },
     "metadata": {},
     "output_type": "display_data"
    },
    {
     "data": {
      "text/html": [
       "Tracking run with wandb version 0.12.13"
      ],
      "text/plain": [
       "<IPython.core.display.HTML object>"
      ]
     },
     "metadata": {},
     "output_type": "display_data"
    },
    {
     "data": {
      "text/html": [
       "Run data is saved locally in <code>/mnt/data/FederatedLearning/utils/data_analysers/wandb/run-20220528_213750-9mdl1nuw</code>"
      ],
      "text/plain": [
       "<IPython.core.display.HTML object>"
      ]
     },
     "metadata": {},
     "output_type": "display_data"
    },
    {
     "data": {
      "text/html": [
       "Syncing run <strong><a href=\"https://wandb.ai/anton-peter/Dataset-Analysis/runs/9mdl1nuw\" target=\"_blank\">upbeat-snowflake-75</a></strong> to <a href=\"https://wandb.ai/anton-peter/Dataset-Analysis\" target=\"_blank\">Weights & Biases</a> (<a href=\"https://wandb.me/run\" target=\"_blank\">docs</a>)<br/>"
      ],
      "text/plain": [
       "<IPython.core.display.HTML object>"
      ]
     },
     "metadata": {},
     "output_type": "display_data"
    },
    {
     "name": "stdout",
     "output_type": "stream",
     "text": [
      "\n"
     ]
    },
    {
     "data": {
      "text/html": [
       "Waiting for W&B process to finish... <strong style=\"color:green\">(success).</strong>"
      ],
      "text/plain": [
       "<IPython.core.display.HTML object>"
      ]
     },
     "metadata": {},
     "output_type": "display_data"
    },
    {
     "data": {
      "text/html": [
       "Synced <strong style=\"color:#cdcd00\">upbeat-snowflake-75</strong>: <a href=\"https://wandb.ai/anton-peter/Dataset-Analysis/runs/9mdl1nuw\" target=\"_blank\">https://wandb.ai/anton-peter/Dataset-Analysis/runs/9mdl1nuw</a><br/>Synced 4 W&B file(s), 2 media file(s), 2 artifact file(s) and 0 other file(s)"
      ],
      "text/plain": [
       "<IPython.core.display.HTML object>"
      ]
     },
     "metadata": {},
     "output_type": "display_data"
    },
    {
     "data": {
      "text/html": [
       "Find logs at: <code>./wandb/run-20220528_213750-9mdl1nuw/logs</code>"
      ],
      "text/plain": [
       "<IPython.core.display.HTML object>"
      ]
     },
     "metadata": {},
     "output_type": "display_data"
    }
   ],
   "source": [
    "import wandb\n",
    "\n",
    "wandb.init(project=\"Dataset-Analysis\", entity=\"anton-peter\")\n",
    "wandb.run.name = f\"Round performance\"\n",
    "\n",
    "\n",
    "\n",
    "embryo_time_execeution = [2.867, 3.633, 3.067, 3.033 ,3.067, 3.217, 2.917, 4.433,3.083,  2.5,   2.85,   2.633, 3.05, 2.667, 2.917, 2.917, 2.533, 3.483, 3.067, 2.517, 3.033, 2.633, 2.65]   \n",
    "client_keys = [id+1 for id in range(23)]\n",
    "\n",
    "performance_dict = dict(zip(client_keys, embryo_time_execeution))\n",
    "data = [[item[0], int(item[1]*60)] for i, item in enumerate(performance_dict.items())]\n",
    "\n",
    "table = wandb.Table(data=data, columns=[\"client-id\", \"Round-time\"])\n",
    "wandb.log({\"Client round performance Embryo\" : wandb.plot.bar(table, \"client-id\",\n",
    "           \"Round-time\", title=\"Client round performance Embryo\")})\n",
    "\n",
    "\n",
    "mnist_time_execeution = [0.45,0.433,0.45,0.433,0.433,0.4167,0.4333,0.45,0.45,0.4833,0.4833,0.4833,0.4833,0.4833,0.4833,0.4833,0.4833,0.4833,0.4833,0.4833,0.4833,0.4833,0.4667]\n",
    "client_keys = [id+1 for id in range(23)]\n",
    "\n",
    "performance_dict2 = dict(zip(client_keys, mnist_time_execeution))\n",
    "data2 = [[item[0], int(item[1]*60)] for i, item in enumerate(performance_dict2.items())]\n",
    "\n",
    "table = wandb.Table(data=data2, columns=[\"client-id\", \"Round-time\"])\n",
    "wandb.log({\"Client round performance MNIST\" : wandb.plot.bar(table, \"client-id\",\n",
    "           \"Round-time\", title=\"Client round performance MNIST\")})\n",
    "\n",
    "wandb.finish()"
   ]
  },
  {
   "cell_type": "markdown",
   "id": "f322fdcf-d1c1-4e13-89f6-b83ce3890beb",
   "metadata": {},
   "source": [
    "### EVAL ON clients with 100 + samples"
   ]
  },
  {
   "cell_type": "code",
   "execution_count": 12,
   "id": "d051c9c2-aac4-4ec3-b62a-3cc89daa5ad1",
   "metadata": {},
   "outputs": [
    {
     "name": "stdout",
     "output_type": "stream",
     "text": [
      "7/7 [==============================] - 2s 143ms/step - loss: 0.6862 - tp: 43.0000 - fp: 15.0000 - tn: 21.0000 - fn: 33.0000 - accuracy: 0.5714 - precision: 0.7414 - recall: 0.5658 - auc: 0.6095 - prc: 0.7672\n",
      "25/25 [==============================] - 4s 145ms/step - loss: 0.6181 - tp: 15.0000 - fp: 21.0000 - tn: 269.0000 - fn: 95.0000 - accuracy: 0.7100 - precision: 0.4167 - recall: 0.1364 - auc: 0.5876 - prc: 0.3475\n",
      "13/13 [==============================] - 2s 145ms/step - loss: 0.6992 - tp: 22.0000 - fp: 23.0000 - tn: 86.0000 - fn: 77.0000 - accuracy: 0.5192 - precision: 0.4889 - recall: 0.2222 - auc: 0.4928 - prc: 0.4770\n",
      "6/6 [==============================] - 1s 140ms/step - loss: 0.6467 - tp: 17.0000 - fp: 9.0000 - tn: 53.0000 - fn: 17.0000 - accuracy: 0.7292 - precision: 0.6538 - recall: 0.5000 - auc: 0.7102 - prc: 0.5969\n",
      "11/11 [==============================] - 2s 146ms/step - loss: 0.6829 - tp: 38.0000 - fp: 41.0000 - tn: 56.0000 - fn: 41.0000 - accuracy: 0.5341 - precision: 0.4810 - recall: 0.4810 - auc: 0.5485 - prc: 0.4591\n",
      "10/10 [==============================] - 1s 145ms/step - loss: 0.6750 - tp: 20.0000 - fp: 31.0000 - tn: 74.0000 - fn: 35.0000 - accuracy: 0.5875 - precision: 0.3922 - recall: 0.3636 - auc: 0.5468 - prc: 0.3953\n",
      "6/6 [==============================] - 1s 143ms/step - loss: 0.6677 - tp: 22.0000 - fp: 17.0000 - tn: 36.0000 - fn: 21.0000 - accuracy: 0.6042 - precision: 0.5641 - recall: 0.5116 - auc: 0.6452 - prc: 0.5618\n",
      "50/50 [==============================] - 7s 146ms/step - loss: 0.5972 - tp: 68.0000 - fp: 96.0000 - tn: 481.0000 - fn: 155.0000 - accuracy: 0.6862 - precision: 0.4146 - recall: 0.3049 - auc: 0.6722 - prc: 0.4056\n",
      "9/9 [==============================] - 1s 142ms/step - loss: 0.5789 - tp: 14.0000 - fp: 24.0000 - tn: 85.0000 - fn: 21.0000 - accuracy: 0.6875 - precision: 0.3684 - recall: 0.4000 - auc: 0.7634 - prc: 0.4520\n",
      "1/1 [==============================] - 0s 162ms/step - loss: 0.6750 - tp: 1.0000 - fp: 0.0000e+00 - tn: 6.0000 - fn: 4.0000 - accuracy: 0.6364 - precision: 1.0000 - recall: 0.2000 - auc: 0.6167 - prc: 0.6928\n",
      "skipping low\n",
      "4/4 [==============================] - 1s 140ms/step - loss: 0.6624 - tp: 8.0000 - fp: 12.0000 - tn: 31.0000 - fn: 13.0000 - accuracy: 0.6094 - precision: 0.4000 - recall: 0.3810 - auc: 0.6202 - prc: 0.5384\n",
      "1/1 [==============================] - 0s 192ms/step - loss: 0.6898 - tp: 4.0000 - fp: 7.0000 - tn: 4.0000 - fn: 1.0000 - accuracy: 0.5000 - precision: 0.3636 - recall: 0.8000 - auc: 0.6455 - prc: 0.5187\n",
      "skipping low\n",
      "7/7 [==============================] - 1s 146ms/step - loss: 0.6296 - tp: 10.0000 - fp: 4.0000 - tn: 68.0000 - fn: 30.0000 - accuracy: 0.6964 - precision: 0.7143 - recall: 0.2500 - auc: 0.7257 - prc: 0.5646\n",
      "1/1 [==============================] - 0s 168ms/step - loss: 0.6758 - tp: 3.0000 - fp: 5.0000 - tn: 6.0000 - fn: 1.0000 - accuracy: 0.6000 - precision: 0.3750 - recall: 0.7500 - auc: 0.5000 - prc: 0.2441\n",
      "skipping low\n",
      "3/3 [==============================] - 0s 143ms/step - loss: 0.5779 - tp: 3.0000 - fp: 6.0000 - tn: 34.0000 - fn: 5.0000 - accuracy: 0.7708 - precision: 0.3333 - recall: 0.3750 - auc: 0.6781 - prc: 0.2528\n",
      "4/4 [==============================] - 1s 142ms/step - loss: 0.6590 - tp: 7.0000 - fp: 14.0000 - tn: 27.0000 - fn: 16.0000 - accuracy: 0.5312 - precision: 0.3333 - recall: 0.3043 - auc: 0.5498 - prc: 0.3580\n",
      "1/1 [==============================] - 0s 148ms/step - loss: 0.5847 - tp: 2.0000 - fp: 2.0000 - tn: 6.0000 - fn: 1.0000 - accuracy: 0.7273 - precision: 0.5000 - recall: 0.6667 - auc: 0.8333 - prc: 0.6594\n",
      "skipping low\n",
      "20/20 [==============================] - 3s 162ms/step - loss: 0.6287 - tp: 29.0000 - fp: 37.0000 - tn: 193.0000 - fn: 61.0000 - accuracy: 0.6938 - precision: 0.4394 - recall: 0.3222 - auc: 0.6218 - prc: 0.3932\n",
      "9/9 [==============================] - 1s 140ms/step - loss: 0.5959 - tp: 7.0000 - fp: 11.0000 - tn: 97.0000 - fn: 29.0000 - accuracy: 0.7222 - precision: 0.3889 - recall: 0.1944 - auc: 0.6782 - prc: 0.3520\n",
      "1/1 [==============================] - 0s 149ms/step - loss: 0.5893 - tp: 0.0000e+00 - fp: 1.0000 - tn: 5.0000 - fn: 2.0000 - accuracy: 0.6250 - precision: 0.0000e+00 - recall: 0.0000e+00 - auc: 0.8333 - prc: 0.4507\n",
      "skipping low\n",
      "7/7 [==============================] - 1s 145ms/step - loss: 0.6395 - tp: 6.0000 - fp: 9.0000 - tn: 70.0000 - fn: 27.0000 - accuracy: 0.6786 - precision: 0.4000 - recall: 0.1818 - auc: 0.5679 - prc: 0.3283\n",
      "1/1 [==============================] - 0s 184ms/step - loss: 0.6100 - tp: 0.0000e+00 - fp: 0.0000e+00 - tn: 8.0000 - fn: 8.0000 - accuracy: 0.5000 - precision: 0.0000e+00 - recall: 0.0000e+00 - auc: 0.7734 - prc: 0.7485\n",
      "skipping low\n",
      "2/2 [==============================] - 0s 139ms/step - loss: 0.5752 - tp: 3.0000 - fp: 5.0000 - tn: 21.0000 - fn: 3.0000 - accuracy: 0.7500 - precision: 0.3750 - recall: 0.5000 - auc: 0.7179 - prc: 0.3147\n",
      "skipping low\n",
      "std\n",
      "[0.03747781596276288, 16.541496115829425, 21.514166844198268, 115.62842900320838, 37.27012878968893, 0.0772444450618777, 0.12584893976325978, 0.1238097661664382, 0.07281852945050704, 0.12418517209412608]\n",
      "loss 0.6402949281036854 +/- 0.03747781596276288\n",
      "tp 20.5625 +/- 16.541496115829425\n",
      "fp 23.125 +/- 21.514166844198268\n",
      "tn 105.0625 +/- 115.62842900320838\n",
      "fn 42.25 +/- 37.27012878968893\n",
      "accuracy 0.6457352600991726 +/- 0.0772444450618777\n",
      "presision 0.4706464745104313 +/- 0.12584893976325978\n",
      "recall 0.3433981314301491 +/- 0.1238097661664382\n",
      "auc 0.626126466318965 +/- 0.07281852945050704\n",
      "prc 0.4531043916940689 +/- 0.12418517209412608\n"
     ]
    }
   ],
   "source": [
    "from tensorflow import keras\n",
    "from keras.datasets import mnist\n",
    "import numpy as np\n",
    "import sys\n",
    "\n",
    "sys.path.append('../..')\n",
    "import utils.models.vitrolife_model as Models\n",
    "import utils.dataloaders.vitrolife_dataloader as DataloaderBla\n",
    "\n",
    "\n",
    "#load model\n",
    "#model_name= \"../../experiments/vitrolifeFederated/models/Embryo-Federated-B16-R300-E1-HIGH-LR-OverSampling-DA/R-89\"\n",
    "model_name= \"../../experiments/vitrolifeCentralized/models/Embryo-Centralized-B16-E100/Epoch-99\"\n",
    "model_from_disk = keras.models.load_model(f\"{model_name}\")\n",
    "\n",
    "all_results = []\n",
    "list_train = []\n",
    "\n",
    "batch_size = 16\n",
    "number_of_clients=23\n",
    "for client_id in range(23):\n",
    "    path =  \"/mnt/data/vitroLifeDataset\"\n",
    "    test_loader = DataloaderBla.VitroLifeDataloader(path, batch_size, dataset_split=\"Test\", clinic_ID=client_id)\n",
    "    result = model_from_disk.evaluate(test_loader)\n",
    "    \n",
    "    training_loader = DataloaderBla.VitroLifeDataloader(\"/mnt/data/vitroLifeDataset\", batch_size , dataset_split=\"Train\", data_augmentation = \"False\", balancing_strategy=\"None\", clinic_ID=client_id)\n",
    "    training_data = training_loader.__len__()\n",
    "    list_train.append(training_data*batch_size)\n",
    "\n",
    "    \n",
    "    if list_train[client_id] >= 150:\n",
    "        all_results.append(result)\n",
    "    else:\n",
    "        print(\"skipping low\")\n",
    "        number_of_clients = number_of_clients -1\n",
    "\n",
    "\n",
    "# acum all 23 clients metrics\n",
    "aggregated_results = [0,0,0,0,0,0,0,0,0,0]    \n",
    "for partial_results in all_results:\n",
    "    for index, metric in enumerate(partial_results):\n",
    "            aggregated_results[index] += metric\n",
    "        \n",
    "        \n",
    "# take mean        \n",
    "for index, agg_res in enumerate(aggregated_results):\n",
    "    aggregated_results[index] = aggregated_results[index]/number_of_clients\n",
    "    \n",
    "     \n",
    "    \n",
    "standart_deviation = []    \n",
    "# collect std    \n",
    "for i in range(10):\n",
    "    metrics_groups = [item[i] for item in all_results]\n",
    "    standart_deviation.append(np.std(metrics_groups))\n",
    "\n",
    "print(\"std\")\n",
    "print(standart_deviation)\n",
    "    \n",
    "\n",
    "metric_names =  ['loss', 'tp', 'fp', 'tn', 'fn', 'accuracy', 'presision', 'recall', 'auc', 'prc']\n",
    "for i, final_res in enumerate(aggregated_results):\n",
    "    print(f\"{metric_names[i]} {final_res} +/- {standart_deviation[i]}\")\n",
    "    \n",
    "\n",
    "#print(f\"Experiment model: {model_name}\")\n",
    "#print(f\"loss={result[0]}\\n tp={result[1]}\\n fp={result[2]}\\n tn={result[3]}\\n fn={result[4]}\\n accuracy={result[5]}\\n presision={result[6]}\\n recall={result[7]}\\n auc={result[8]}\\n prc={result[9]}\")"
   ]
  }
 ],
 "metadata": {
  "kernelspec": {
   "display_name": "Python 3 (ipykernel)",
   "language": "python",
   "name": "python3"
  },
  "language_info": {
   "codemirror_mode": {
    "name": "ipython",
    "version": 3
   },
   "file_extension": ".py",
   "mimetype": "text/x-python",
   "name": "python",
   "nbconvert_exporter": "python",
   "pygments_lexer": "ipython3",
   "version": "3.8.10"
  }
 },
 "nbformat": 4,
 "nbformat_minor": 5
}
