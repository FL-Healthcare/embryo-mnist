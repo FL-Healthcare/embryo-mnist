{
 "cells": [
  {
   "cell_type": "markdown",
   "id": "cb60507b-6d20-455d-a574-76f87018f11b",
   "metadata": {},
   "source": [
    "### Options:\n",
    "* DataAugmentation = 'True'/'False'\n",
    "    * *To augment data sample while training, to avoid overfit*\n",
    "* BatchSize = 16/32/64/128\n",
    "    * *Size of each batch getting fed to the network*\n",
    "* NumberOfEpochs = 1-*\n",
    "    * *Number of epochs*"
   ]
  },
  {
   "cell_type": "code",
   "execution_count": null,
   "id": "4d7de419-c199-4ad2-bce1-6f5e51c96d7f",
   "metadata": {},
   "outputs": [],
   "source": [
    "!python3 'mnist_centralized.py' --ExperimentName=\"MNIST-Centralized-B64-E100-DA\" \\\n",
    "                                --DataAugmentation=\"True\" \\\n",
    "                                --BatchSize=64 \\\n",
    "                                --NumberOfEpochs=100"
   ]
  },
  {
   "cell_type": "markdown",
   "id": "7fe93171-314f-48c5-81e7-12386c04f0ac",
   "metadata": {},
   "source": [
    "### Final eval on best hyperparameters"
   ]
  },
  {
   "cell_type": "code",
   "execution_count": null,
   "id": "65226a9b-ed52-4bb2-812b-2b8e9477ae99",
   "metadata": {},
   "outputs": [],
   "source": [
    "from tensorflow import keras\n",
    "from keras.datasets import mnist\n",
    "import numpy\n",
    "import sys\n",
    "import os\n",
    "sys.path.append('../..')\n",
    "\n",
    "import experiments.mnistCentralized.mnist_centralized as Experiment\n",
    "\n",
    "train_generator, valid_generator, test_generator, (val_x, val_y), (test_x, test_y) = Experiment.get_data(32, \"False\")\n",
    "\n",
    "base_path = \"/mnt/data/FederatedLearning/experiments/mnistCentralized/models\"\n",
    "runs_models = os.listdir(base_path)\n",
    "\n",
    "results_dict = {}\n",
    "current_model_index = 0\n",
    "\n",
    "for run in runs_models:\n",
    "    epochs_models = os.listdir(f\"{base_path}/{run}\")\n",
    "    for epoch in epochs_models:\n",
    "        current_model_index += 1\n",
    "        print(f\"Evaluating mode : {current_model_index}\")\n",
    "        full_path_model = f\"{base_path}/{run}/{epoch}\"\n",
    "        current_model = keras.models.load_model(full_path_model)\n",
    "        \n",
    "        # [val_loss, val_tp, val_fp, val_tn, val_fn, val_accuracy, val_presision, val_recall, val_auc, val_prc]\n",
    "        current_results = current_model.evaluate(valid_generator, batch_size=32, verbose=0)\n",
    "        results_dict[f\"{run}/{epoch}\"] = current_results[5]   \n",
    "\n",
    "#model_name= \"model-MNIST-Centralized-B32-E10-Augment=True-2022-05-12\"\n",
    "#model_from_disk = keras.models.load_model(f\"models/{model_name}\") \n",
    "\n",
    "#result = model_from_disk.evaluate(x=val_x, y=val_y , batch_size=32)"
   ]
  },
  {
   "cell_type": "markdown",
   "id": "f91a5696-2674-40d8-873e-f0be062a5fc9",
   "metadata": {},
   "source": [
    "### Selected best model"
   ]
  },
  {
   "cell_type": "code",
   "execution_count": null,
   "id": "c5b7bf6c-9258-415d-a579-851a7fc7727d",
   "metadata": {},
   "outputs": [],
   "source": [
    "best_model =  max(results_dict, key=results_dict.get)\n",
    "print(best_model)\n",
    "print(results_dict[best_model])"
   ]
  },
  {
   "cell_type": "markdown",
   "id": "ea140f7f-7070-4da2-8fed-142ff033ad45",
   "metadata": {},
   "source": [
    "### Apply val set to find best model"
   ]
  },
  {
   "cell_type": "code",
   "execution_count": null,
   "id": "5b49186a-7e37-4300-b740-a1755a433ea8",
   "metadata": {},
   "outputs": [],
   "source": [
    "from tensorflow import keras\n",
    "from keras.datasets import mnist\n",
    "import numpy\n",
    "import sys\n",
    "sys.path.append('../..')\n",
    "\n",
    "import experiments.mnistCentralized.mnist_centralized as Experiment\n",
    "\n",
    "_, _, test_generator, (val_x, val_y), (test_x, test_y) = Experiment.get_data(32, \"False\")\n",
    "\n",
    "model_name= \"MNIST-Centralized-B64-E100/Epoch-97\"\n",
    "model_from_disk = keras.models.load_model(f\"models/{model_name}\")\n",
    "\n",
    "result = model_from_disk.evaluate(x=val_x, y=val_y , batch_size=32)\n",
    "\n",
    "print(f\"Experiment model: {model_name}\")\n",
    "print(f\"loss={result[0]}\\n tp={result[1]}\\n fp={result[2]}\\n tn={result[3]}\\n fn={result[4]}\\n accuracy={result[5]}\\n presision={result[6]}\\n recall={result[7]}\\n auc={result[8]}\\n prc={result[9]}\")"
   ]
  },
  {
   "cell_type": "markdown",
   "id": "94b33fa7-4a25-4849-b623-5f58087d8743",
   "metadata": {},
   "source": [
    "### Apply test set on best model"
   ]
  },
  {
   "cell_type": "code",
   "execution_count": null,
   "id": "307efeca-2384-4e08-988f-f8bfb3de27a9",
   "metadata": {},
   "outputs": [],
   "source": [
    "from tensorflow import keras\n",
    "from keras.datasets import mnist\n",
    "import numpy\n",
    "import sys\n",
    "sys.path.append('../..')\n",
    "\n",
    "import experiments.mnistCentralized.mnist_centralized as Experiment\n",
    "\n",
    "_, _, _, _, (test_x, test_y) = Experiment.get_data(64, \"False\")\n",
    "\n",
    "#load model\n",
    "model_name= \"MNIST-Centralized-B64-E100/Epoch-87\"\n",
    "model_from_disk = keras.models.load_model(f\"models/{model_name}\")\n",
    "\n",
    "result = model_from_disk.evaluate(x=test_x, y=test_y , batch_size=64)\n",
    "\n",
    "print(f\"Experiment model: {model_name}\")\n",
    "print(f\"loss={result[0]}\\n tp={result[1]}\\n fp={result[2]}\\n tn={result[3]}\\n fn={result[4]}\\n accuracy={result[5]}\\n presision={result[6]}\\n recall={result[7]}\\n auc={result[8]}\\n prc={result[9]}\")"
   ]
  },
  {
   "cell_type": "code",
   "execution_count": null,
   "id": "2927211d-3fad-4dc1-83c7-d19abf832a28",
   "metadata": {},
   "outputs": [],
   "source": [
    "prediction = model_from_disk.predict(val_x)\n",
    "result_maxed = numpy.argmax(prediction, axis=1)\n",
    "val_y =  numpy.argmax(val_y, axis=1)\n",
    "\n",
    "correct = 0\n",
    "wrong = 0\n",
    "\n",
    "for ground_index in range(len(val_y)):\n",
    "    if val_y[ground_index] == result_maxed[ground_index]:\n",
    "        correct += 1\n",
    "    else:\n",
    "        wrong += 1\n",
    "        \n",
    "\n",
    "print(f\"Correct {correct}\")\n",
    "print(f\"Wrong {wrong}\")\n",
    "print(f\"total {correct + wrong }\")\n",
    "print(f\"accuracy {correct /(correct + wrong) }\")"
   ]
  },
  {
   "cell_type": "code",
   "execution_count": null,
   "id": "00f799a8-4e4b-4a43-b7f5-5c3dabab4655",
   "metadata": {},
   "outputs": [],
   "source": [
    "import os\n",
    "sys.path.append('../..')\n",
    "\n",
    "import experiments.mnistCentralized.mnist_centralized as Experiment\n",
    "\n",
    "batch_size = 32\n",
    "train_generator, valid_generator, test_generator, (val_x, val_y), (test_x, test_y) = Experiment.get_data(batch_size, \"False\")\n",
    "\n",
    "print(f\"Training batches count : {train_generator.__len__()}\")\n",
    "print(f\"Validation batches count : {valid_generator.__len__()}\")\n",
    "print(f\"Test batches count : {test_generator.__len__()}\")"
   ]
  },
  {
   "cell_type": "markdown",
   "id": "9170f808-84b6-4740-bef5-8c76ba37bce1",
   "metadata": {},
   "source": [
    "### Visualize effect of filters"
   ]
  },
  {
   "cell_type": "code",
   "execution_count": 1,
   "id": "92f386f0-2c6f-462e-a668-edcb6e68ae08",
   "metadata": {},
   "outputs": [
    {
     "name": "stderr",
     "output_type": "stream",
     "text": [
      "2022-05-28 12:25:28.356196: I tensorflow/core/platform/cpu_feature_guard.cc:193] This TensorFlow binary is optimized with oneAPI Deep Neural Network Library (oneDNN) to use the following CPU instructions in performance-critical operations:  AVX2 AVX512F AVX512_VNNI FMA\n",
      "To enable them in other operations, rebuild TensorFlow with the appropriate compiler flags.\n",
      "2022-05-28 12:25:28.704532: I tensorflow/core/common_runtime/gpu/gpu_device.cc:1549] Created device /job:localhost/replica:0/task:0/device:GPU:0 with 22317 MB memory:  -> device: 0, name: NVIDIA GeForce RTX 3090, pci bus id: 0000:17:00.0, compute capability: 8.6\n"
     ]
    },
    {
     "name": "stdout",
     "output_type": "stream",
     "text": [
      "WARNING:tensorflow:Please fix your imports. Module tensorflow.python.training.tracking.data_structures has been moved to tensorflow.python.trackable.data_structures. The old module will be deleted in version 2.11.\n",
      "WARNING:tensorflow:Please fix your imports. Module tensorflow.python.training.tracking.trackable_utils has been moved to tensorflow.python.trackable.trackable_utils. The old module will be deleted in version 2.11.\n",
      "Model: \"sequential\"\n",
      "_________________________________________________________________\n",
      " Layer (type)                Output Shape              Param #   \n",
      "=================================================================\n",
      " conv2d (Conv2D)             (None, 26, 26, 64)        640       \n",
      "                                                                 \n",
      " conv2d_1 (Conv2D)           (None, 24, 24, 64)        36928     \n",
      "                                                                 \n",
      " max_pooling2d (MaxPooling2D  (None, 12, 12, 64)       0         \n",
      " )                                                               \n",
      "                                                                 \n",
      " dropout (Dropout)           (None, 12, 12, 64)        0         \n",
      "                                                                 \n",
      " batch_normalization (BatchN  (None, 12, 12, 64)       256       \n",
      " ormalization)                                                   \n",
      "                                                                 \n",
      " conv2d_2 (Conv2D)           (None, 10, 10, 128)       73856     \n",
      "                                                                 \n",
      " conv2d_3 (Conv2D)           (None, 8, 8, 128)         147584    \n",
      "                                                                 \n",
      " max_pooling2d_1 (MaxPooling  (None, 4, 4, 128)        0         \n",
      " 2D)                                                             \n",
      "                                                                 \n",
      " dropout_1 (Dropout)         (None, 4, 4, 128)         0         \n",
      "                                                                 \n",
      " batch_normalization_1 (Batc  (None, 4, 4, 128)        512       \n",
      " hNormalization)                                                 \n",
      "                                                                 \n",
      " conv2d_4 (Conv2D)           (None, 2, 2, 256)         295168    \n",
      "                                                                 \n",
      " max_pooling2d_2 (MaxPooling  (None, 1, 1, 256)        0         \n",
      " 2D)                                                             \n",
      "                                                                 \n",
      " dropout_2 (Dropout)         (None, 1, 1, 256)         0         \n",
      "                                                                 \n",
      " batch_normalization_2 (Batc  (None, 1, 1, 256)        1024      \n",
      " hNormalization)                                                 \n",
      "                                                                 \n",
      " flatten (Flatten)           (None, 256)               0         \n",
      "                                                                 \n",
      " dropout_3 (Dropout)         (None, 256)               0         \n",
      "                                                                 \n",
      " dense (Dense)               (None, 512)               131584    \n",
      "                                                                 \n",
      " dense_1 (Dense)             (None, 10)                5130      \n",
      "                                                                 \n",
      "=================================================================\n",
      "Total params: 692,682\n",
      "Trainable params: 691,786\n",
      "Non-trainable params: 896\n",
      "_________________________________________________________________\n",
      "(1, 28, 28, 1)\n"
     ]
    },
    {
     "name": "stderr",
     "output_type": "stream",
     "text": [
      "2022-05-28 12:25:30.461457: I tensorflow/stream_executor/cuda/cuda_dnn.cc:384] Loaded cuDNN version 8400\n"
     ]
    },
    {
     "name": "stdout",
     "output_type": "stream",
     "text": [
      "1/1 [==============================] - 2s 2s/step\n"
     ]
    },
    {
     "name": "stderr",
     "output_type": "stream",
     "text": [
      "2022-05-28 12:25:31.362263: I tensorflow/core/platform/default/subprocess.cc:304] Start cannot spawn child process: No such file or directory\n"
     ]
    },
    {
     "data": {
      "image/png": "[encoded data removed]",
      "text/plain": [
       "<Figure size 864x864 with 5 Axes>"
      ]
     },
     "metadata": {},
     "output_type": "display_data"
    },
    {
     "data": {
      "image/png": "[encoded data removed]",
      "text/plain": [
       "<Figure size 864x864 with 5 Axes>"
      ]
     },
     "metadata": {},
     "output_type": "display_data"
    },
    {
     "data": {
      "image/png": "[encoded data removed]",
      "text/plain": [
       "<Figure size 864x864 with 5 Axes>"
      ]
     },
     "metadata": {},
     "output_type": "display_data"
    },
    {
     "data": {
      "image/png": "[encoded data removed]",
      "text/plain": [
       "<Figure size 864x864 with 5 Axes>"
      ]
     },
     "metadata": {},
     "output_type": "display_data"
    }
   ],
   "source": [
    "from tensorflow import keras\n",
    "from keras import Model\n",
    "import matplotlib.pyplot as plt\n",
    "from keras.datasets import mnist\n",
    "import numpy as np\n",
    "import sys\n",
    "sys.path.append('../..')\n",
    "\n",
    "import experiments.mnistCentralized.mnist_centralized as Experiment\n",
    "\n",
    "model_name= \"MNIST-Centralized-B64-E100/Epoch-87\"\n",
    "model_from_disk = keras.models.load_model(f\"models/{model_name}\")\n",
    "model_from_disk.summary()\n",
    "\n",
    "conv_2d_layers = [0,1, 5,6]\n",
    "\n",
    "outputs = [model_from_disk.layers[i].output for i in conv_2d_layers]\n",
    "model_truncated = Model(inputs=model_from_disk.inputs, outputs=outputs)\n",
    "\n",
    "\n",
    "\n",
    "_, _, _, _, (test_x, test_y) = Experiment.get_data(64, \"False\")\n",
    "\n",
    "img = test_x[1]\n",
    "img = np.expand_dims(img, axis=0)\n",
    "\n",
    "print(img.shape)\n",
    "\n",
    "feature_map = model_truncated.predict(img)\n",
    "\n",
    "\n",
    "cols = 8\n",
    "rows = 8\n",
    "\n",
    "plot_per_convolution = 6\n",
    "for ftr in feature_map:\n",
    "    fig = plt.figure(figsize=(12,12))\n",
    "    for i in range(1, plot_per_convolution):\n",
    "        fig = plt.subplot(rows,cols,i)\n",
    "        fig.set_xticks([])\n",
    "        fig.set_yticks([])\n",
    "        plt.imshow(ftr[0,:,:,i-1], cmap='gray')\n",
    "    \n",
    "    plt.show()\n"
   ]
  }
 ],
 "metadata": {
  "kernelspec": {
   "display_name": "Python 3 (ipykernel)",
   "language": "python",
   "name": "python3"
  },
  "language_info": {
   "codemirror_mode": {
    "name": "ipython",
    "version": 3
   },
   "file_extension": ".py",
   "mimetype": "text/x-python",
   "name": "python",
   "nbconvert_exporter": "python",
   "pygments_lexer": "ipython3",
   "version": "3.8.10"
  }
 },
 "nbformat": 4,
 "nbformat_minor": 5
}
