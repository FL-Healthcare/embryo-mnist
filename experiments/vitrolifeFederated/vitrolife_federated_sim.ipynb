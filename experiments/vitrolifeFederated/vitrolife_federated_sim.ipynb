{
 "cells": [
  {
   "cell_type": "markdown",
   "id": "f479bb17-c2da-496e-b767-7aadad74f3e5",
   "metadata": {},
   "source": [
    "### Options:\n",
    "* NumberOfClients = 1-23\n",
    "    * *Client processes that the simulation starts*\n",
    "* FractionOfClients = [0,1]  \n",
    "    * *Percentage of clients perticipating each training round for fit/eval*\n",
    "* NumberOfRounds = 1-*\n",
    "    * *Numbers of federated rounds*\n",
    "* BalancingStrategy = 'OverSampling'/'ClassWeights'/'None'\n",
    "    * *Compensate for dataset class imbalance*\n",
    "* DataAugmentation = 'True'/'False'\n",
    "    * *To augment data sample while training, to avoid overfit*\n",
    "* BatchSize = 16/32/64/128\n",
    "    * *Size of each batch getting fed to the network*\n",
    "* NumberOfEpochs = 1-*\n",
    "    * *Number of local epochs on clients*"
   ]
  },
  {
   "cell_type": "code",
   "execution_count": null,
   "id": "970de7ee-45e2-4805-8eb6-8495250279dd",
   "metadata": {},
   "outputs": [],
   "source": [
    "!python3 'vitrolife_federated.py' --ExperimentName=\"Embryo-R10-E5-B64-ClassWeights-DA-ALL\" \\\n",
    "                                    --NumberOfClients=23 \\\n",
    "                                    --FractionOfClients=1 \\\n",
    "                                    --NumberOfRounds=10 \\\n",
    "                                    --BalancingStrategy=\"ClassWeights\" \\\n",
    "                                    --DataAugmentation=\"True\" \\\n",
    "                                    --BatchSize=64 \\\n",
    "                                    --NumberOfEpochs=5"
   ]
  },
  {
   "cell_type": "markdown",
   "id": "b0c30c3c-3eb0-44a7-bf5b-1e251a1a66e8",
   "metadata": {},
   "source": [
    "### Load final model and apply test set \"federated eval\""
   ]
  },
  {
   "cell_type": "code",
   "execution_count": 2,
   "id": "2581072c-d79e-401c-8b18-8805a49d209b",
   "metadata": {},
   "outputs": [
    {
     "name": "stdout",
     "output_type": "stream",
     "text": [
      "training count client-0: 542\n",
      "validation count client-0: 100\n",
      "test count client-0:114\n",
      "training count client-1: 1850\n",
      "validation count client-1: 385\n",
      "test count client-1:407\n",
      "training count client-2: 995\n",
      "validation count client-2: 203\n",
      "test count client-2:218\n"
     ]
    }
   ],
   "source": [
    "import sys\n",
    "sys.path.append('../..')\n",
    "\n",
    "import client.vitrolife.vitrolife_client as Client\n",
    "import server.vitrolife.vitrolife_server as Server\n",
    "\n",
    "\n",
    "sys.path.append('../..')\n",
    "\n",
    "import utils.dataloaders.vitrolife_dataloader as DataLoader\n",
    "import utils.models.vitrolife_model as Model\n",
    "\n",
    "\n",
    "for i in range(3):\n",
    "    batz_size = 32\n",
    "    balancing_strategy = \"None\"\n",
    "    training_loader = DataLoader.VitroLifeDataloader(\"/mnt/data/vitroLifeDataset\", batz_size , dataset_split=\"Train\", data_augmentation = \"False\", balancing_strategy=balancing_strategy, clinic_ID=i)\n",
    "    validation_loader =  DataLoader.VitroLifeDataloader(\"/mnt/data/vitroLifeDataset\", batz_size , dataset_split=\"Validation\", data_augmentation = \"False\", balancing_strategy=balancing_strategy, clinic_ID=i)\n",
    "    testing_loader = DataLoader.VitroLifeDataloader(\"/mnt/data/vitroLifeDataset\", batz_size , dataset_split=\"Test\", data_augmentation = \"False\", balancing_strategy=balancing_strategy, clinic_ID=i)\n",
    "\n",
    "    print(f\"training count client-{i}: {training_loader.count()}\")\n",
    "    print(f\"validation count client-{i}: {validation_loader.count()}\")\n",
    "    print(f\"test count client-{i}:{testing_loader.count()}\")\n",
    "\n"
   ]
  }
 ],
 "metadata": {
  "kernelspec": {
   "display_name": "Python 3 (ipykernel)",
   "language": "python",
   "name": "python3"
  },
  "language_info": {
   "codemirror_mode": {
    "name": "ipython",
    "version": 3
   },
   "file_extension": ".py",
   "mimetype": "text/x-python",
   "name": "python",
   "nbconvert_exporter": "python",
   "pygments_lexer": "ipython3",
   "version": "3.8.10"
  }
 },
 "nbformat": 4,
 "nbformat_minor": 5
}
